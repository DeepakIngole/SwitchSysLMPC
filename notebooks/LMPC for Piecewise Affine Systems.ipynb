{
 "cells": [
  {
   "cell_type": "markdown",
   "metadata": {},
   "source": [
    "# Learning MPC for Piecewise Affine Systems\n",
    "\n",
    "This notebook explains how the Learning MPC framework can be used to reduce the computational burden of optimal control for Piecewise Affine Systems. Recall that the receeding horizon optimal control for PWA systems is a mixed integer program due to the dependence of the dynamics on the state.\n",
    "\n",
    "$$\\min_{u_0,u_1,\\dots} \\sum_{k=0}^\\infty x_k^\\top Q x_k + u_k^\\top R u_k$$\n",
    "\n",
    "$$\\text{s.t. } x_{k+1}=A_ix_k +B_iu_k +\\mu_i \\text{ if }x_k\\in\\mathcal{R}_i$$\n",
    "\n",
    "$$x_k\\in\\mathcal{X},u_k\\in\\mathcal{U},k=0,1,...$$\n",
    "\n",
    "In particular the complexity grows with the total number of distinct regions, and since the trajectories and the dynamics of those trajectories are coupled, there is not natural parallelism to exploit."
   ]
  },
  {
   "cell_type": "code",
   "execution_count": 3,
   "metadata": {
    "collapsed": true
   },
   "outputs": [],
   "source": [
    "import numpy as np \n",
    "import polytope\n",
    "import matplotlib.pyplot as plt\n",
    "\n",
    "import sys\n",
    "sys.path.append('../src')\n",
    "sys.path.append('../src/fnc')\n",
    "\n",
    "import lmpc_main as lmpc\n",
    "\n",
    "import pwa_cluster as pwa\n",
    "\n",
    "\n",
    "import UtilityFunc as util #BuildMatEqConstimport DefSystem, DefineRegions, PlotRegions, CurrentRegion, SysEvolution, \\\n",
    "    #BuildMatIneqConst, GetPred, BuildMatCost, BuildMatEqConst\n",
    "    \n",
    "% matplotlib inline\n",
    "%load_ext autoreload\n",
    "%autoreload 2"
   ]
  },
  {
   "cell_type": "markdown",
   "metadata": {},
   "source": [
    "## Piecewise Affine Systems\n",
    "\n",
    "A piecewise affine system has dynamics\n",
    "$$ x_{k+1} = A_i x_k + B_i u_k + \\mu_i, \\text{  if  } x_k \\in \\mathcal{R}_i$$\n",
    "where the $\\mathcal{R}_i$ are convex regions that partition the state space. In this example, we consider double integrators with different parameters in three different regions."
   ]
  },
  {
   "cell_type": "code",
   "execution_count": 4,
   "metadata": {},
   "outputs": [
    {
     "name": "stdout",
     "output_type": "stream",
     "text": [
      "A for region 0 is\n",
      " [[ 0.8  0.1]\n",
      " [ 0.   0.8]]\n",
      "A for region 1 is\n",
      " [[ 0.85  0.15]\n",
      " [ 0.    0.85]]\n",
      "A for region 2 is\n",
      " [[ 0.9  0.2]\n",
      " [ 0.   0.9]]\n"
     ]
    },
    {
     "data": {
      "image/png": "[encoded data removed]",
      "text/plain": [
       "<matplotlib.figure.Figure at 0x7f7cf0e5a0f0>"
      ]
     },
     "metadata": {},
     "output_type": "display_data"
    }
   ],
   "source": [
    "[A, B, Q, R, Q_LMPC, R_LMPC, _, Box_Points, _] = util.DefSystem(np)\n",
    "p_region = []\n",
    "F_region = []; b_region = [];\n",
    "\n",
    "region_colors = ['lightsalmon', 'lightgray', 'lightskyblue']\n",
    "plt.figure(); ax = plt.subplot(111); plt.title(\"Regions\")\n",
    "for k,box in enumerate(Box_Points):\n",
    "    p = polytope.box2poly(box) #Polytope(vertices=Vertex)\n",
    "    p.plot(ax, color=region_colors[k], alpha=1);\n",
    "    ax.set_xlim([-2.5,2.5]); ax.set_ylim([-1.5, 4.5])\n",
    "    p_region.append(p)\n",
    "    F_region.append(p.A); b_region.append(p.b)\n",
    "    print(\"A for region\", k, \"is\\n\", A[k])\n",
    "    \n"
   ]
  },
  {
   "cell_type": "markdown",
   "metadata": {},
   "source": [
    "## Construction of Safe Set\n",
    "\n",
    "Recall that LMPC relies on the existence of a safe set of previously visited states. Next, we will use a hand designed controller to create the first trajectory."
   ]
  },
  {
   "cell_type": "code",
   "execution_count": 5,
   "metadata": {},
   "outputs": [
    {
     "data": {
      "text/plain": [
       "(-1.5, 4.5)"
      ]
     },
     "execution_count": 5,
     "metadata": {},
     "output_type": "execute_result"
    },
    {
     "data": {
      "image/png": "[encoded data removed]",
      "text/plain": [
       "<matplotlib.figure.Figure at 0x7f7cedb60d30>"
      ]
     },
     "metadata": {},
     "output_type": "display_data"
    }
   ],
   "source": [
    "Time = 50                            # Number of simulation's time steps for first feasible trajectory\n",
    "n,d = B[0].shape\n",
    "x_feasible = np.zeros((n,Time+1))    # Initialize the closed loop trajectory\n",
    "u_feasible = np.zeros((d,Time))      # Initialize the closed loop input\n",
    "\n",
    "x_feasible[:,0] = np.array([-1, 2.5])\n",
    "K = np.array([0.4221,  1.2439])\n",
    "\n",
    "for i in range(0, Time):\n",
    "    u_feasible[:,i] = -0*np.dot(K, x_feasible[:,i])\n",
    "    x_feasible[:,i+1] = util.SysEvolution(x_feasible[:,i], u_feasible[:,i], F_region, b_region, np, \\\n",
    "                                          util.CurrentRegion, A, B)\n",
    "\n",
    "plt.figure(); ax = plt.subplot(111); plt.title(\"First feasible trajectory\")\n",
    "for k,p in enumerate(p_region):\n",
    "    p.plot(ax, color=region_colors[k], alpha=1);\n",
    "plt.plot(x_feasible[0,:], x_feasible[1,:], '-o', color='black')\n",
    "ax.set_xlim([-2.5,2.5]); ax.set_ylim([-1.5, 4.5])\n",
    "\n"
   ]
  },
  {
   "cell_type": "markdown",
   "metadata": {},
   "source": [
    "## LMPC for Piecewise Affine Dynamics\n",
    "Recall that in LMPC, the previous set of trajectories is used to construct the \"safe set\" $\\mathcal{SS}$ which acts as the terminal constraint to ensure recursive feasibility. In the piecewise affine setting, we will split the safe set into pieces based on the regions, $\\mathcal{SS}_i$. We will further use the safe set of previous trajectories to construct a switching signal $\\gamma$, which fixes the dynamics and the transitions between different regions $\\mathcal{R}_i$. \n",
    "\n",
    "$$\n",
    "    \\min_{u_0,u_1,\\dots,u_{T-1}} \\sum_{k=0}^{T-1} x_k^\\top Q x_k + u_k^\\top R u_k+x_T^\\top Qx_T$$\n",
    "   $$ \\text{s.t.  } x_{k+1}=A_{\\gamma(k)}x_k +B_{\\gamma(k)}u_k +\\mu_{\\gamma(k)},x_k\\in\\mathcal{X}\\cap\\mathcal{R}_{\\gamma(k)} $$\n",
    "   $$ u_k\\in\\mathcal{U},x_T\\in\\mathcal{SS}_{\\gamma(T)},k=0,1,...,T\n",
    "$$\n",
    "\n",
    "Once the switching signal is fixed, the optimization problem is a QP except for the integer terminal constraint. However, the search over terminal constraints is trivially parallelizable, and furthermore, a smaller subset of the safe set can be used while maintaining feasibility guarantees. A key question then is the definition of $\\gamma$.\n",
    "\n",
    "The switching sequence $\\gamma$ is defined by a $T$-step\n",
    "*candidate trajectory* $\\mathbf{c}$ which is computed before each timestep. It is also a function of the selected terminal point $x_T^{j}$ from the $j$th learning iteration. Particularly, if the final point of $\\mathbf{c}$ and terminal point $x_T^{j}$ coincide, then the states in $\\mathbf{c}$ determine the switching sequence. Otherwise, the states of the safe set in the trajectory leading up to $x^j_T$ are used to define the switching sequence.\n",
    "\n",
    "$$ \\gamma(k) = \\begin{cases} i\\text{ : } \\mathbf{c}_k\\in\\mathcal{R}_i \\text{ if }\\mathbf{c}_T = x^j_T \\\\\n",
    "i\\text{ : } x_k^{j}\\in\\mathcal{R}_i \\text{ else }\\end{cases} $$\n",
    "\n",
    "Before each timestep, the candidate trajectory is synthesized as the predicted open loop trajectory of the previous timestep propagated one step forward in time.\n",
    "\n",
    "In short, this formulation allows for the switching sequence to be defined only as a function of the terminal state, which means that the optimization problem can be solved as a series of QPs in parallel. The formulation is also flexible through the incorporation of $\\mathbf{c}$ to learn to visit regions in a different sequence than in the original safe trajectory.\n"
   ]
  },
  {
   "cell_type": "code",
   "execution_count": 6,
   "metadata": {},
   "outputs": [
    {
     "name": "stdout",
     "output_type": "stream",
     "text": [
      "====================================== STARTING LMPC OPTIMIZATION ===============================================\n",
      "Feasible Iteration: 0, Time Steps 50.0, Iteration Cost: 48.21838\n",
      "Learning Iteration: 1, Time Steps 30.0, Iteration Cost: 28.56756, Cost Improvement: 19.6508148, Iteration time: 0.780s, Average MIQP solver time: 0.026s\n",
      "Learning Iteration: 2, Time Steps 29.0, Iteration Cost: 22.04792, Cost Improvement: 6.5196402, Iteration time: 0.668s, Average MIQP solver time: 0.023s\n",
      "Learning Iteration: 3, Time Steps 29.0, Iteration Cost: 19.44989, Cost Improvement: 2.5980285, Iteration time: 0.733s, Average MIQP solver time: 0.025s\n",
      "Learning Iteration: 4, Time Steps 29.0, Iteration Cost: 18.40516, Cost Improvement: 1.0447361, Iteration time: 0.659s, Average MIQP solver time: 0.023s\n",
      "Learning Iteration: 5, Time Steps 29.0, Iteration Cost: 17.74465, Cost Improvement: 0.6605054, Iteration time: 0.717s, Average MIQP solver time: 0.025s\n",
      "Learning Iteration: 6, Time Steps 29.0, Iteration Cost: 17.31991, Cost Improvement: 0.4247382, Iteration time: 0.692s, Average MIQP solver time: 0.024s\n",
      "Learning Iteration: 7, Time Steps 29.0, Iteration Cost: 17.01986, Cost Improvement: 0.3000590, Iteration time: 0.632s, Average MIQP solver time: 0.022s\n",
      "Learning Iteration: 8, Time Steps 29.0, Iteration Cost: 16.79986, Cost Improvement: 0.2199926, Iteration time: 0.643s, Average MIQP solver time: 0.022s\n",
      "Learning Iteration: 9, Time Steps 29.0, Iteration Cost: 16.63711, Cost Improvement: 0.1627549, Iteration time: 0.721s, Average MIQP solver time: 0.025s\n",
      "Learning Iteration: 10, Time Steps 29.0, Iteration Cost: 16.51609, Cost Improvement: 0.1210146, Iteration time: 0.657s, Average MIQP solver time: 0.023s\n",
      "Learning Iteration: 11, Time Steps 29.0, Iteration Cost: 16.43445, Cost Improvement: 0.0816443, Iteration time: 0.592s, Average MIQP solver time: 0.020s\n",
      "Learning Iteration: 12, Time Steps 29.0, Iteration Cost: 16.38412, Cost Improvement: 0.0503335, Iteration time: 0.632s, Average MIQP solver time: 0.022s\n",
      "Learning Iteration: 13, Time Steps 29.0, Iteration Cost: 16.34651, Cost Improvement: 0.0376094, Iteration time: 0.639s, Average MIQP solver time: 0.022s\n",
      "Learning Iteration: 14, Time Steps 29.0, Iteration Cost: 16.31851, Cost Improvement: 0.0280014, Iteration time: 0.734s, Average MIQP solver time: 0.025s\n",
      "Learning Iteration: 15, Time Steps 29.0, Iteration Cost: 16.29756, Cost Improvement: 0.0209426, Iteration time: 0.647s, Average MIQP solver time: 0.022s\n",
      "Learning Iteration: 16, Time Steps 28.0, Iteration Cost: 16.27746, Cost Improvement: 0.0201075, Iteration time: 0.600s, Average MIQP solver time: 0.021s\n",
      "Learning Iteration: 17, Time Steps 16.0, Iteration Cost: 14.00968, Cost Improvement: 2.2677714, Iteration time: 0.269s, Average MIQP solver time: 0.017s\n",
      "Learning Iteration: 18, Time Steps 5.0, Iteration Cost: 10.55708, Cost Improvement: 3.4526022, Iteration time: 0.048s, Average MIQP solver time: 0.010s\n",
      "Learning Iteration: 19, Time Steps 5.0, Iteration Cost: 10.55708, Cost Improvement: 0.0000000, Iteration time: 0.012s, Average MIQP solver time: 0.002s\n",
      "====================================== LMPC RESULTS ===============================================\n",
      "The LMPC has converged at iteration 19, The Optimal Cost is: 10.55708\n",
      "Steps in Region 0, First Feasible Solution:  18  Steady State:  0\n",
      "Steps in Region 1, First Feasible Solution:  24  Steady State:  5\n",
      "Steps in Region 2, First Feasible Solution:  9  Steady State:  1\n"
     ]
    }
   ],
   "source": [
    "x, Steps = lmpc.runall_LMPC(A, B, F_region, b_region,  x_feasible, u_feasible, Q, R, Q_LMPC, R_LMPC)"
   ]
  },
  {
   "cell_type": "code",
   "execution_count": 8,
   "metadata": {},
   "outputs": [
    {
     "data": {
      "text/plain": [
       "(-1.5, 4.5)"
      ]
     },
     "execution_count": 8,
     "metadata": {},
     "output_type": "execute_result"
    },
    {
     "data": {
      "image/png": "[encoded data removed]",
      "text/plain": [
       "<matplotlib.figure.Figure at 0x7f7ceca6ad30>"
      ]
     },
     "metadata": {},
     "output_type": "display_data"
    }
   ],
   "source": [
    "plt.figure(); ax = plt.subplot(111); plt.title(\"LMPC Trajectories\")\n",
    "for k,p in enumerate(p_region):\n",
    "    p.plot(ax, color=region_colors[k], alpha=1);\n",
    "for it in range(Steps.size-1):\n",
    "    plt.plot(x[0,:Steps[it]+1,it], x[1,:Steps[it]+1,it], '-o', color='black')\n",
    "\n",
    "plt.plot(x[0,:Steps[-1]+1,it], x[1,:Steps[-1]+1,it], '-o', color='red', label='final trajectory')\n",
    "plt.legend()\n",
    "\n",
    "ax.set_xlim([-2.5,2.5]); ax.set_ylim([-1.5, 4.5])"
   ]
  },
  {
   "cell_type": "code",
   "execution_count": null,
   "metadata": {
    "collapsed": true
   },
   "outputs": [],
   "source": []
  }
 ],
 "metadata": {
  "kernelspec": {
   "display_name": "Python [conda root]",
   "language": "python",
   "name": "conda-root-py"
  },
  "language_info": {
   "codemirror_mode": {
    "name": "ipython",
    "version": 3
   },
   "file_extension": ".py",
   "mimetype": "text/x-python",
   "name": "python",
   "nbconvert_exporter": "python",
   "pygments_lexer": "ipython3",
   "version": "3.5.3"
  }
 },
 "nbformat": 4,
 "nbformat_minor": 2
}
