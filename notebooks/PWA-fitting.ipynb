{
 "cells": [
  {
   "cell_type": "markdown",
   "metadata": {},
   "source": [
    "# PWA System Identification\n",
    "\n",
    "In this notebook, we implement some methods for PWA system identification. The identification problem for a fixed number of regions can be posed as\n",
    "$$ \\min_{\\Theta, \\mathcal{R}} \\frac{1}{M} \\sum_{\\ell=1}^M\\sum_{i=1}^s \\mathbf{1}_{z_\\ell\\in\\mathcal{R}_i}\\textrm{loss}(y_\\ell - \\theta_i^\\top \\begin{bmatrix} z_\\ell \\\\ 1\\end{bmatrix}) $$\n",
    "which is a mixed integer problem, and is NP-hard to solve [cite]. Instead, we will investigate solving the problem by two approaches: a convex relaxation that has recovery guarantees with some assumptions, and a greedy alternating algorithm for clustering. "
   ]
  },
  {
   "cell_type": "code",
   "execution_count": 1,
   "metadata": {
    "collapsed": false
   },
   "outputs": [],
   "source": [
    "%load_ext autoreload\n",
    "%autoreload 2\n",
    "%matplotlib inline"
   ]
  },
  {
   "cell_type": "code",
   "execution_count": 2,
   "metadata": {
    "collapsed": true
   },
   "outputs": [],
   "source": [
    "import numpy as np\n",
    "import matplotlib.pyplot as plt\n",
    "import scipy as sp\n",
    "import scipy.linalg as la\n",
    "import sys\n",
    "\n",
    "sys.path.append('../src')\n",
    "import pwa_cluster as pwac"
   ]
  },
  {
   "cell_type": "markdown",
   "metadata": {},
   "source": [
    "## Data Generation\n",
    "\n",
    "Recall that a PWA system takes the following form\n",
    "$$ y = \\theta_i^\\top \\begin{bmatrix} z \\\\ 1 \\end{bmatrix}, \\quad z\\in\\mathcal{R}_i $$\n",
    "Furthermore, recall that affine regions $\\{\\mathcal{R}_i\\}_{i\\in[s]}$ can be defined by $\\{w_i\\in\\mathbb{R}^{d+1}\\}_{i\\in[s]}$\n",
    "$$ z\\in\\mathcal{R}_i \\iff i = \\arg\\max_{j\\in[s]} w_j^\\top \\begin{bmatrix} z \\\\ 1 \\end{bmatrix} $$\n",
    "\n",
    "In this section, we write methods for generating noisy data. We will both generate data from a truly PWA system and from a nonlinear system that may be approximated as PWA."
   ]
  },
  {
   "cell_type": "code",
   "execution_count": 3,
   "metadata": {
    "collapsed": true
   },
   "outputs": [],
   "source": [
    "def affine_fn(x, region, affines):\n",
    "    return affines[region(x)].transpose().dot(np.hstack([x, [1]]))\n",
    "\n",
    "def generate_affine_fn(d, n, s):\n",
    "    affines = [np.random.rand(d+1, n) for i in range(s)]\n",
    "    region_weights = [4*np.random.rand(d+1) for i in range(s)]\n",
    "    def region(x):\n",
    "        dot_pdt = [region_weight.transpose().dot(np.hstack([x, [1]])) for region_weight in region_weights]\n",
    "        return np.argmax(dot_pdt)\n",
    "    return lambda x: affine_fn(x, region, affines), region, affines\n",
    "        \n",
    "    \n"
   ]
  },
  {
   "cell_type": "code",
   "execution_count": 4,
   "metadata": {
    "collapsed": true
   },
   "outputs": [],
   "source": [
    "f, region, affines = generate_affine_fn(2, 1, 3)"
   ]
  },
  {
   "cell_type": "code",
   "execution_count": 5,
   "metadata": {
    "collapsed": false,
    "scrolled": true
   },
   "outputs": [
    {
     "data": {
      "text/plain": [
       "<matplotlib.image.AxesImage at 0x7f2827aa7f60>"
      ]
     },
     "execution_count": 5,
     "metadata": {},
     "output_type": "execute_result"
    },
    {
     "data": {
      "image/png": "[encoded data removed]",
      "text/plain": [
       "<matplotlib.figure.Figure at 0x7f2830f25208>"
      ]
     },
     "metadata": {},
     "output_type": "display_data"
    }
   ],
   "source": [
    "grid_size = 0.5\n",
    "x = np.arange(-10,10,grid_size)\n",
    "N_grid = len(x)\n",
    "\n",
    "y = np.zeros([N_grid,N_grid])\n",
    "regions = np.zeros([N_grid,N_grid])\n",
    "xs = []\n",
    "for i in range(N_grid):\n",
    "    for j in range(N_grid):\n",
    "        perturb = 0.25 * np.random.rand(2)\n",
    "        y[i,j] = f([x[i],x[j]])\n",
    "        regions[i,j] = region([x[i],x[j]])\n",
    "        xs.append([x[i],x[j]])\n",
    "\n",
    "plt.figure(); \n",
    "plt.subplot(1,2,1)\n",
    "plt.imshow(y, interpolation='none', origin='lower',  extent=(min(x), max(x), min(x), max(x)))\n",
    "plt.subplot(1,2,2)\n",
    "plt.imshow(regions, interpolation='none', origin='lower',  extent=(min(x), max(x), min(x), max(x)))"
   ]
  },
  {
   "cell_type": "code",
   "execution_count": 6,
   "metadata": {
    "collapsed": false
   },
   "outputs": [
    {
     "data": {
      "text/plain": [
       "<matplotlib.image.AxesImage at 0x7f28279ab080>"
      ]
     },
     "execution_count": 6,
     "metadata": {},
     "output_type": "execute_result"
    },
    {
     "data": {
      "image/png": "[encoded data removed]",
      "text/plain": [
       "<matplotlib.figure.Figure at 0x7f28303b8390>"
      ]
     },
     "metadata": {},
     "output_type": "display_data"
    }
   ],
   "source": [
    "zs = np.array(xs)\n",
    "ys = []\n",
    "for z in zs:\n",
    "    ys.append(f(z) + 0 * np.random.randn(1))\n",
    "ys = np.array(ys)\n",
    "\n",
    "plt.figure(); plt.imshow(ys.reshape(N_grid, N_grid), interpolation='none', origin='lower',  extent=(min(x), max(x), min(x), max(x)))\n"
   ]
  },
  {
   "cell_type": "code",
   "execution_count": 7,
   "metadata": {
    "collapsed": true
   },
   "outputs": [],
   "source": [
    "# to do: implement some realistic-ish nonlinear function (using the bicycle model?)"
   ]
  },
  {
   "cell_type": "markdown",
   "metadata": {},
   "source": [
    "## Greedy Alternating Approach"
   ]
  },
  {
   "cell_type": "code",
   "execution_count": 8,
   "metadata": {
    "collapsed": true
   },
   "outputs": [],
   "source": [
    "\n",
    "clustering = pwac.ClusterPWA(zs, ys, 3) #, z_cutoff = 1)\n"
   ]
  },
  {
   "cell_type": "code",
   "execution_count": 9,
   "metadata": {
    "collapsed": false,
    "scrolled": true
   },
   "outputs": [
    {
     "name": "stdout",
     "output_type": "stream",
     "text": [
      "assigning datapoints to clusters\n",
      "updating models\n",
      "7.45480440517\n",
      "assigning datapoints to clusters\n",
      "updating models\n",
      "2.60875632427\n",
      "assigning datapoints to clusters\n",
      "updating models\n",
      "1.5517750998\n",
      "assigning datapoints to clusters\n",
      "updating models\n",
      "2.65294222613\n",
      "assigning datapoints to clusters\n",
      "updating models\n",
      "3.48288081971\n",
      "assigning datapoints to clusters\n",
      "updating models\n",
      "1.83218553468\n",
      "assigning datapoints to clusters\n",
      "updating models\n",
      "0.169765704635\n",
      "assigning datapoints to clusters\n",
      "updating models\n",
      "0.166968370694\n",
      "assigning datapoints to clusters\n",
      "updating models\n",
      "0.230483002643\n",
      "assigning datapoints to clusters\n",
      "updating models\n",
      "0.146535665142\n",
      "assigning datapoints to clusters\n",
      "updating models\n",
      "0.192375577254\n",
      "assigning datapoints to clusters\n",
      "updating models\n",
      "0.196139130749\n",
      "assigning datapoints to clusters\n",
      "updating models\n",
      "0.140031206098\n",
      "assigning datapoints to clusters\n",
      "updating models\n",
      "0.209734115062\n",
      "assigning datapoints to clusters\n",
      "updating models\n",
      "0.116110052443\n",
      "assigning datapoints to clusters\n",
      "updating models\n",
      "0.172500870362\n",
      "assigning datapoints to clusters\n",
      "updating models\n",
      "0.102102442544\n",
      "assigning datapoints to clusters\n",
      "updating models\n",
      "0.18077993861\n",
      "assigning datapoints to clusters\n",
      "updating models\n",
      "0.0898275991194\n",
      "assigning datapoints to clusters\n",
      "updating models\n",
      "0.172737980942\n",
      "assigning datapoints to clusters\n",
      "updating models\n",
      "0.0782112645101\n",
      "assigning datapoints to clusters\n",
      "updating models\n",
      "0.128618170651\n",
      "assigning datapoints to clusters\n",
      "updating models\n",
      "0.109919463084\n",
      "assigning datapoints to clusters\n",
      "updating models\n",
      "0.10291648638\n",
      "assigning datapoints to clusters\n",
      "updating models\n",
      "0.116512263514\n",
      "assigning datapoints to clusters\n",
      "updating models\n",
      "0.0388112484336\n",
      "assigning datapoints to clusters\n",
      "updating models\n",
      "0.0846513332416\n",
      "assigning datapoints to clusters\n",
      "updating models\n",
      "0.11254007031\n",
      "assigning datapoints to clusters\n",
      "updating models\n",
      "0.0380027814566\n",
      "assigning datapoints to clusters\n",
      "updating models\n",
      "0.0135481376841\n",
      "assigning datapoints to clusters\n",
      "updating models\n",
      "0.0454802863859\n",
      "assigning datapoints to clusters\n",
      "updating models\n",
      "0.109767987113\n",
      "assigning datapoints to clusters\n",
      "updating models\n",
      "0.0677005083388\n",
      "assigning datapoints to clusters\n",
      "updating models\n",
      "0.0140382291316\n",
      "assigning datapoints to clusters\n",
      "updating models\n",
      "0.0261091949971\n",
      "assigning datapoints to clusters\n",
      "updating models\n",
      "0.0835167538212\n",
      "assigning datapoints to clusters\n",
      "updating models\n",
      "0.073126621744\n",
      "assigning datapoints to clusters\n",
      "updating models\n",
      "0.0396264021315\n",
      "assigning datapoints to clusters\n",
      "updating models\n",
      "0.014626483947\n",
      "assigning datapoints to clusters\n",
      "updating models\n",
      "0.0\n",
      "done\n"
     ]
    }
   ],
   "source": [
    "clustering.fit_clusters(verbose=True)"
   ]
  },
  {
   "cell_type": "code",
   "execution_count": 10,
   "metadata": {
    "collapsed": true
   },
   "outputs": [],
   "source": [
    "centroids_first = clustering.centroids\n",
    "cluster_labels_first = clustering.cluster_labels\n",
    "thetas_first = clustering.thetas"
   ]
  },
  {
   "cell_type": "code",
   "execution_count": 11,
   "metadata": {
    "collapsed": true
   },
   "outputs": [],
   "source": [
    "clustering.determine_polytopic_regions()"
   ]
  },
  {
   "cell_type": "code",
   "execution_count": 12,
   "metadata": {
    "collapsed": true
   },
   "outputs": [],
   "source": [
    "centroids = clustering.centroids\n",
    "cluster_labels = clustering.cluster_labels\n",
    "thetas = clustering.thetas"
   ]
  },
  {
   "cell_type": "code",
   "execution_count": 13,
   "metadata": {
    "collapsed": false,
    "scrolled": false
   },
   "outputs": [
    {
     "data": {
      "text/plain": [
       "(-11.008512544802867,\n",
       " 10.508512544802867,\n",
       " -10.990176600441503,\n",
       " 10.490176600441501)"
      ]
     },
     "execution_count": 13,
     "metadata": {},
     "output_type": "execute_result"
    },
    {
     "data": {
      "image/png": "[encoded data removed]",
      "text/plain": [
       "<matplotlib.figure.Figure at 0x7f2827a2abe0>"
      ]
     },
     "metadata": {},
     "output_type": "display_data"
    }
   ],
   "source": [
    "plt.figure();\n",
    "plt.subplot(1,3,1);\n",
    "plt.imshow((regions).T, interpolation='none', origin='lower',  extent=(min(x), max(x), min(x), max(x)))\n",
    "\n",
    "plt.subplot(1,3,2); plt.scatter(zs[:,0], zs[:,1], c=cluster_labels_first); plt.axis('equal')\n",
    "plt.subplot(1,3,3); plt.scatter(zs[:,0], zs[:,1], c=cluster_labels); plt.axis('equal')\n"
   ]
  },
  {
   "cell_type": "code",
   "execution_count": 14,
   "metadata": {
    "collapsed": false
   },
   "outputs": [
    {
     "data": {
      "text/plain": [
       "<matplotlib.colorbar.Colorbar at 0x7f2825f98ac8>"
      ]
     },
     "execution_count": 14,
     "metadata": {},
     "output_type": "execute_result"
    },
    {
     "data": {
      "image/png": "[encoded data removed]",
      "text/plain": [
       "<matplotlib.figure.Figure at 0x7f282624d2e8>"
      ]
     },
     "metadata": {},
     "output_type": "display_data"
    }
   ],
   "source": [
    "yhats = []\n",
    "yhats_first = []\n",
    "for i in range(zs.shape[0]):\n",
    "    yhat = thetas[int(cluster_labels[i])].transpose().dot(np.hstack([zs[i], 1]))\n",
    "    yhat_first = thetas_first[int(cluster_labels_first[i])].transpose().dot(np.hstack([zs[i], 1]))\n",
    "    yhats.append(yhat)\n",
    "    yhats_first.append(yhat_first)\n",
    "\n",
    "plt.figure(figsize=[10,6]); \n",
    "plt.subplot(2,3,1)\n",
    "plt.scatter(zs[:,0], zs[:,1], c=y); plt.axis('equal'); plt.colorbar()\n",
    "plt.subplot(2,3,2)\n",
    "plt.scatter(zs[:,0], zs[:,1], c=yhats_first); plt.axis('equal'); plt.colorbar()\n",
    "plt.subplot(2,3,3)\n",
    "plt.scatter(zs[:,0], zs[:,1], c=(ys-yhats_first)); plt.axis('equal'); plt.colorbar()\n",
    "\n",
    "plt.subplot(2,3,5)\n",
    "plt.scatter(zs[:,0], zs[:,1], c=yhats); plt.axis('equal'); plt.colorbar()\n",
    "plt.subplot(2,3,6)\n",
    "plt.scatter(zs[:,0], zs[:,1], c=(ys-yhats)); plt.axis('equal'); plt.colorbar()"
   ]
  },
  {
   "cell_type": "code",
   "execution_count": 25,
   "metadata": {
    "collapsed": false
   },
   "outputs": [
    {
     "data": {
      "text/plain": [
       "array([[[-0.29295884],\n",
       "        [ 1.14373967],\n",
       "        [-2.36058211]],\n",
       "\n",
       "       [[ 1.07846969],\n",
       "        [ 1.25802538],\n",
       "        [-0.21772506]],\n",
       "\n",
       "       [[-0.78547583],\n",
       "        [-2.4018384 ],\n",
       "        [ 2.57819321]]])"
      ]
     },
     "execution_count": 25,
     "metadata": {},
     "output_type": "execute_result"
    }
   ],
   "source": [
    "clustering.region_fns"
   ]
  },
  {
   "cell_type": "code",
   "execution_count": 62,
   "metadata": {
    "collapsed": false
   },
   "outputs": [],
   "source": [
    "F_region, b_region = pwac.getRegionMatrices(clustering.region_fns)"
   ]
  },
  {
   "cell_type": "code",
   "execution_count": null,
   "metadata": {
    "collapsed": true
   },
   "outputs": [],
   "source": []
  },
  {
   "cell_type": "code",
   "execution_count": 66,
   "metadata": {
    "collapsed": true
   },
   "outputs": [],
   "source": [
    "import cdd"
   ]
  },
  {
   "cell_type": "code",
   "execution_count": 105,
   "metadata": {
    "collapsed": false
   },
   "outputs": [
    {
     "name": "stdout",
     "output_type": "stream",
     "text": [
      "begin\n",
      " 4 2 rational\n",
      " 2 1\n",
      " 0 1\n",
      " 0 0\n",
      " 2 0\n",
      "end\n",
      "H-representation\n",
      "begin\n",
      " 2 2 rational\n",
      " 1 0\n",
      " 0 1\n",
      "end\n"
     ]
    }
   ],
   "source": [
    "mat = cdd.Matrix([[2,1],[0,1],[0,0], [2,0]], number_type='fraction')\n",
    "mat.rep_type = cdd.RepType.GENERATOR # INEQUALITY # GENERATOR\n",
    "poly = cdd.Polyhedron(mat)\n",
    "print(poly)\n",
    "ext = poly.get_inequalities() # get_generators() # \n",
    "print(ext)\n"
   ]
  },
  {
   "cell_type": "code",
   "execution_count": 103,
   "metadata": {
    "collapsed": false
   },
   "outputs": [
    {
     "data": {
      "text/plain": [
       "array([[1, 0, 0, 0],\n",
       "       [1, 2, 0, 0],\n",
       "       [1, 0, 2, 0]])"
      ]
     },
     "execution_count": 103,
     "metadata": {},
     "output_type": "execute_result"
    }
   ],
   "source": [
    "np.array(ext.__getitem__(slice(0,3)))"
   ]
  },
  {
   "cell_type": "markdown",
   "metadata": {},
   "source": [
    "## Convex Relaxation\n",
    "\n",
    "In this section, we explore and implement a convex relaxation the the PWA identification problem. We focus on the heuristic in [2] \n",
    "$$ \\min_\\Theta \\sum_{\\ell=1}^M \\|\\Lambda_e^{-1/2}(y_\\ell - \\theta_\\ell^\\top \\begin{bmatrix} z_\\ell \\\\ 1\\end{bmatrix})\\|_2^2 + \\lambda\\sum_{k,j=1}^M K(z_k, z_j)\\|\\theta_k-\\theta_j\\|_1\n",
    " $$\n",
    "\n",
    "This convex problem is implemented using cvxpy.\n",
    "\n",
    "[2] Henrik Ohlsson and Lennart Ljung, Identification of Piecewise Affine Systems Using  Sum-of-Norms Regularization"
   ]
  },
  {
   "cell_type": "code",
   "execution_count": 198,
   "metadata": {
    "collapsed": true
   },
   "outputs": [],
   "source": [
    "import cvxpy as cvx\n",
    "\n",
    "## method for taking data points into cvxpy problem and solving it\n",
    "def cvx_problem(ys, zs, kernel, lambda_err, lambda_reg):\n",
    "    n = ys[0].size\n",
    "    d = zs[0].size\n",
    "    M = len(ys)\n",
    "    \n",
    "    thetas = cvx.Variable(d+1, n * M)\n",
    "    \n",
    "    cost = 0\n",
    "    for i in range(M):\n",
    "        print(i)\n",
    "        fit = ys[i] - thetas[:,i*n:(1+i):n].T * np.hstack([zs[i], 1])\n",
    "        # todo, assert lambda_err PSD\n",
    "        cost = cost + cvx.quad_form(fit, la.inv(la.sqrtm(lambda_err)) )\n",
    "        #costs.append(cvx.Problem(cvx.Minimize(cost)))\n",
    "    \n",
    "    for i in range(M):\n",
    "        print(i)\n",
    "        for j in range(i+1,M):\n",
    "            cost = cost + lambda_reg * kernel(zs[i], zs[j]) * cvx.norm(thetas[:,i*n:(1+i):n]-thetas[:,j*n:(1+j):n], 1 )\n",
    "            # low rank in unrolled matrix instead of l0 norm on vectors!\n",
    "            #costs.append(cvx.Problem(cvx.Minimize(cost)))\n",
    "            \n",
    "    return cvx.Problem(cvx.Minimize(cost)), thetas\n",
    "    \n",
    "    "
   ]
  },
  {
   "cell_type": "code",
   "execution_count": 40,
   "metadata": {
    "collapsed": true
   },
   "outputs": [],
   "source": [
    "def proximity_kernel(z1, z2, size):\n",
    "    if np.linalg.norm(z1-z2) < size:\n",
    "        return 1\n",
    "    else:\n",
    "        return 0"
   ]
  },
  {
   "cell_type": "code",
   "execution_count": 41,
   "metadata": {
    "collapsed": true
   },
   "outputs": [],
   "source": [
    "kernel = lambda z1, z2: proximity_kernel(z1, z2, 1)\n",
    "lambda_err = np.eye(1)\n",
    "lambda_reg = 2"
   ]
  },
  {
   "cell_type": "code",
   "execution_count": 42,
   "metadata": {
    "collapsed": false,
    "scrolled": true
   },
   "outputs": [
    {
     "ename": "NameError",
     "evalue": "name 'cvx_problem' is not defined",
     "output_type": "error",
     "traceback": [
      "\u001b[0;31m---------------------------------------------------------------------------\u001b[0m",
      "\u001b[0;31mNameError\u001b[0m                                 Traceback (most recent call last)",
      "\u001b[0;32m<ipython-input-42-ae7bd2ac2e3d>\u001b[0m in \u001b[0;36m<module>\u001b[0;34m()\u001b[0m\n\u001b[0;32m----> 1\u001b[0;31m \u001b[0mprob\u001b[0m\u001b[0;34m,\u001b[0m \u001b[0mthetas\u001b[0m \u001b[0;34m=\u001b[0m \u001b[0mcvx_problem\u001b[0m\u001b[0;34m(\u001b[0m\u001b[0mys\u001b[0m\u001b[0;34m,\u001b[0m \u001b[0mzs\u001b[0m\u001b[0;34m,\u001b[0m \u001b[0mkernel\u001b[0m\u001b[0;34m,\u001b[0m \u001b[0mlambda_err\u001b[0m\u001b[0;34m,\u001b[0m \u001b[0mlambda_reg\u001b[0m\u001b[0;34m)\u001b[0m\u001b[0;34m\u001b[0m\u001b[0m\n\u001b[0m",
      "\u001b[0;31mNameError\u001b[0m: name 'cvx_problem' is not defined"
     ]
    }
   ],
   "source": [
    "prob, thetas = cvx_problem(ys, zs, kernel, lambda_err, lambda_reg)\n"
   ]
  },
  {
   "cell_type": "code",
   "execution_count": 42,
   "metadata": {
    "collapsed": false
   },
   "outputs": [
    {
     "name": "stdout",
     "output_type": "stream",
     "text": [
      "\n",
      "ECOS 2.0.4 - (C) embotech GmbH, Zurich Switzerland, 2012-15. Web: www.embotech.com/ECOS\n",
      "\n",
      "It     pcost       dcost      gap   pres   dres    k/t    mu     step   sigma     IR    |   BT\n",
      " 0  -1.509e-15  -3.560e+01  +8e+03  8e-01  4e-01  1e+00  2e+00    ---    ---    1  1  - |  -  - \n",
      " 1  +6.576e+00  +2.651e+00  +2e+03  2e-01  5e-02  6e-01  5e-01  0.8759  1e-01   1  1  2 |  0  0\n",
      " 2  +1.919e+01  +1.827e+01  +4e+02  5e-02  1e-02  1e-01  1e-01  0.7717  3e-02   2  2  2 |  0  0\n",
      " 3  +2.582e+01  +2.506e+01  +3e+02  4e-02  8e-03  9e-02  1e-01  0.4901  6e-01   2  2  2 |  0  0\n",
      " 4  +3.287e+01  +3.263e+01  +1e+02  1e-02  3e-03  2e-02  3e-02  0.7347  7e-02   2  2  2 |  0  0\n",
      " 5  +3.433e+01  +3.414e+01  +8e+01  1e-02  2e-03  1e-02  3e-02  0.4928  5e-01   2  2  2 |  0  0\n",
      " 6  +3.608e+01  +3.601e+01  +3e+01  4e-03  7e-04  5e-03  1e-02  0.6780  7e-02   2  2  2 |  0  0\n",
      " 7  +3.616e+01  +3.609e+01  +3e+01  4e-03  6e-04  4e-03  9e-03  0.2647  7e-01   2  2  2 |  0  0\n",
      " 8  +3.656e+01  +3.653e+01  +1e+01  2e-03  3e-04  2e-03  4e-03  0.7003  2e-01   2  2  2 |  0  0\n",
      " 9  +3.677e+01  +3.676e+01  +5e+00  6e-04  1e-04  5e-04  1e-03  0.8903  3e-01   2  2  2 |  0  0\n",
      "10  +3.684e+01  +3.684e+01  +1e+00  2e-04  3e-05  1e-04  5e-04  0.7131  5e-02   2  2  2 |  0  0\n",
      "11  +3.686e+01  +3.686e+01  +7e-01  8e-05  2e-05  6e-05  2e-04  0.9890  4e-01   2  1  1 |  0  0\n",
      "12  +3.687e+01  +3.687e+01  +1e-01  2e-05  3e-06  1e-05  4e-05  0.8657  6e-02   2  1  2 |  0  0\n",
      "13  +3.687e+01  +3.687e+01  +2e-02  2e-06  4e-07  2e-06  6e-06  0.8894  4e-02   3  1  1 |  0  0\n",
      "14  +3.687e+01  +3.687e+01  +3e-03  4e-07  7e-08  3e-07  1e-06  0.9890  2e-01   3  1  1 |  0  0\n",
      "15  +3.687e+01  +3.687e+01  +7e-05  9e-09  2e-09  6e-09  2e-08  0.9779  5e-04   2  1  1 |  0  0\n",
      "16  +3.687e+01  +3.687e+01  +1e-06  1e-10  2e-11  9e-11  3e-10  0.9858  1e-04   3  1  1 |  0  0\n",
      "17  +3.687e+01  +3.687e+01  +1e-08  5e-12  3e-13  1e-12  4e-12  0.9884  1e-04   2  1  1 |  0  0\n",
      "\n",
      "OPTIMAL (within feastol=5.0e-12, reltol=3.4e-10, abstol=1.2e-08).\n",
      "Runtime: 0.030457 seconds.\n",
      "\n"
     ]
    },
    {
     "data": {
      "text/plain": [
       "36.87066719039882"
      ]
     },
     "execution_count": 42,
     "metadata": {},
     "output_type": "execute_result"
    }
   ],
   "source": [
    "prob.solve(verbose=True)"
   ]
  },
  {
   "cell_type": "code",
   "execution_count": 43,
   "metadata": {
    "collapsed": true
   },
   "outputs": [],
   "source": [
    "resulting_thetas = np.array(thetas.value)\n",
    "true_thetas = np.array(affines).transpose()[0]"
   ]
  },
  {
   "cell_type": "code",
   "execution_count": 44,
   "metadata": {
    "collapsed": false
   },
   "outputs": [
    {
     "data": {
      "text/plain": [
       "<matplotlib.collections.PathCollection at 0x7f7531de4128>"
      ]
     },
     "execution_count": 44,
     "metadata": {},
     "output_type": "execute_result"
    },
    {
     "data": {
      "image/png": "[encoded data removed]",
      "text/plain": [
       "<matplotlib.figure.Figure at 0x7f7531e68c50>"
      ]
     },
     "metadata": {},
     "output_type": "display_data"
    }
   ],
   "source": [
    "plt.figure(); plt.scatter(resulting_thetas[0], resulting_thetas[1], c=resulting_thetas[2], s=50)\n",
    "plt.scatter(true_thetas[0], true_thetas[1], c=true_thetas[2], s=50,  marker='*')"
   ]
  },
  {
   "cell_type": "markdown",
   "metadata": {},
   "source": []
  },
  {
   "cell_type": "code",
   "execution_count": 200,
   "metadata": {
    "collapsed": true
   },
   "outputs": [],
   "source": []
  },
  {
   "cell_type": "code",
   "execution_count": null,
   "metadata": {
    "collapsed": true
   },
   "outputs": [],
   "source": [
    "## old clustering\n",
    "import cvxpy as cvx\n",
    "\n",
    "## method for taking data points into cvxpy problem and solving it\n",
    "def cvx_problem(zs, labels):\n",
    "    s = np.unique(labels).size\n",
    "    \n",
    "    Ms = []\n",
    "    ms = []\n",
    "    ws = []\n",
    "    for i in range(s):\n",
    "        selected_z = zs[np.where(cluster_labels == 0)]\n",
    "        num_selected = selected_z.shape[0]\n",
    "        M = np.hstack([selected_z,np.ones([num_selected,1])])\n",
    "        Ms.append(M); ms.append(num_selected)\n",
    "        ws.append(cvx.Variable(zs[0].size + 1,1))\n",
    "        \n",
    "    ys = []\n",
    "    cost = 0\n",
    "    constr = []\n",
    "    for i in range(s):\n",
    "        for j in range(s):\n",
    "            if i == j: continue;\n",
    "            ys.append(cvx.Variable(ms[i]))\n",
    "            cost = cost + np.ones(ms[i]).dot(ys[-1]) / ms[i]\n",
    "            print(Ms[i].shape)\n",
    "            print(ws[j], ws[i], ys[-1])\n",
    "            constr.append(0 >= Ms[i] * ws[j] + np.ones([ms[i],1]) )\n",
    "            #constr = constr + [ys[-1] >= Ms[i].dot(ws[j] - ws[i]) + np.ones([ms[i],1]), ys[-1] >= 0]\n",
    "            \n",
    "    return cvx.Problem(cvx.Minimize(cost), constr), thetas\n",
    "    \n",
    "    "
   ]
  }
 ],
 "metadata": {
  "anaconda-cloud": {},
  "kernelspec": {
   "display_name": "Python [conda root]",
   "language": "python",
   "name": "conda-root-py"
  },
  "language_info": {
   "codemirror_mode": {
    "name": "ipython",
    "version": 3
   },
   "file_extension": ".py",
   "mimetype": "text/x-python",
   "name": "python",
   "nbconvert_exporter": "python",
   "pygments_lexer": "ipython3",
   "version": "3.5.4"
  }
 },
 "nbformat": 4,
 "nbformat_minor": 2
}
